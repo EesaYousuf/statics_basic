{
 "cells": [
  {
   "cell_type": "code",
   "execution_count": 1,
   "id": "107e8b4f",
   "metadata": {},
   "outputs": [],
   "source": [
    "import pandas as pd\n",
    "import numpy as np\n",
    "from statistics import mode"
   ]
  },
  {
   "cell_type": "code",
   "execution_count": 2,
   "id": "3696222c",
   "metadata": {},
   "outputs": [],
   "source": [
    "data=[-19.2,23,24,32,45,12,43,67,45,32,56,32,100]"
   ]
  },
  {
   "cell_type": "code",
   "execution_count": 3,
   "id": "0e29a8a3",
   "metadata": {},
   "outputs": [],
   "source": [
    "# Mean Median Mode\n",
    "mean=np.mean(data)\n",
    "mode=mode(data)\n",
    "median=np.median(data)"
   ]
  },
  {
   "cell_type": "code",
   "execution_count": 5,
   "id": "72cd245d",
   "metadata": {},
   "outputs": [
    {
     "data": {
      "text/plain": [
       "[-19.2, 23, 24, 32, 45, 12, 43, 67, 45, 32, 56, 32, 100]"
      ]
     },
     "execution_count": 5,
     "metadata": {},
     "output_type": "execute_result"
    }
   ],
   "source": [
    "data_copy=data.copy()\n",
    "data"
   ]
  },
  {
   "cell_type": "code",
   "execution_count": 6,
   "id": "91b27ff0",
   "metadata": {},
   "outputs": [
    {
     "name": "stdout",
     "output_type": "stream",
     "text": [
      "Mean is : 37.830769230769235\n"
     ]
    }
   ],
   "source": [
    "# custom Logic for mean\n",
    "sum=0\n",
    "no_of_elements=len(data)\n",
    "for val in data:\n",
    "    sum+=val\n",
    "print(f\"Mean is : {sum/no_of_elements}\")"
   ]
  },
  {
   "cell_type": "code",
   "execution_count": 7,
   "id": "5d8751c1",
   "metadata": {},
   "outputs": [
    {
     "name": "stdout",
     "output_type": "stream",
     "text": [
      "37.830769230769235\n"
     ]
    }
   ],
   "source": [
    "# Other Way\n",
    "print(np.sum(data)/len(data))"
   ]
  },
  {
   "cell_type": "code",
   "execution_count": 8,
   "id": "c488b251",
   "metadata": {},
   "outputs": [
    {
     "data": {
      "text/plain": [
       "array([24.])"
      ]
     },
     "execution_count": 8,
     "metadata": {},
     "output_type": "execute_result"
    }
   ],
   "source": [
    "# Dispersion of Data 1.Percentile 2.standard Deviation 3.Variance\n",
    "np.percentile(data,[25])\n"
   ]
  },
  {
   "cell_type": "code",
   "execution_count": 9,
   "id": "32d3284a",
   "metadata": {},
   "outputs": [
    {
     "data": {
      "text/plain": [
       "array([24., 32.])"
      ]
     },
     "execution_count": 9,
     "metadata": {},
     "output_type": "execute_result"
    }
   ],
   "source": [
    "np.percentile(data,[25,50])"
   ]
  },
  {
   "cell_type": "code",
   "execution_count": 10,
   "id": "40d1d624",
   "metadata": {},
   "outputs": [
    {
     "data": {
      "text/plain": [
       "array([24., 32., 45.])"
      ]
     },
     "execution_count": 10,
     "metadata": {},
     "output_type": "execute_result"
    }
   ],
   "source": [
    "np.percentile(data,[25,50,75])"
   ]
  },
  {
   "cell_type": "code",
   "execution_count": 11,
   "id": "dbaa1759",
   "metadata": {},
   "outputs": [
    {
     "data": {
      "text/plain": [
       "array([ 24.,  32.,  45., 100.])"
      ]
     },
     "execution_count": 11,
     "metadata": {},
     "output_type": "execute_result"
    }
   ],
   "source": [
    "np.percentile(data,[25,50,75,100])  # Quartile"
   ]
  },
  {
   "cell_type": "code",
   "execution_count": 12,
   "id": "52f99211",
   "metadata": {},
   "outputs": [
    {
     "data": {
      "text/plain": [
       "array([21.])"
      ]
     },
     "execution_count": 12,
     "metadata": {},
     "output_type": "execute_result"
    }
   ],
   "source": [
    "# IQR\n",
    "# to calculate IQR We need q3 ,q1 calculated below\n",
    "\n",
    "q3=np.percentile(data,[75])\n",
    "q1=np.percentile(data,[25])\n",
    "IQR=q3-q1\n",
    "IQR"
   ]
  },
  {
   "cell_type": "code",
   "execution_count": 13,
   "id": "46a23c51",
   "metadata": {},
   "outputs": [],
   "source": [
    "# Calculate Upperbond ,lowerbond\n",
    "\n",
    "upper_bound=(q3+1.5*IQR)\n",
    "lower_bound=(q1-1.5*IQR)"
   ]
  },
  {
   "cell_type": "code",
   "execution_count": 14,
   "id": "0fb9177f",
   "metadata": {},
   "outputs": [
    {
     "data": {
      "text/plain": [
       "array([-7.5])"
      ]
     },
     "execution_count": 14,
     "metadata": {},
     "output_type": "execute_result"
    }
   ],
   "source": [
    "lower_bound"
   ]
  },
  {
   "cell_type": "code",
   "execution_count": 15,
   "id": "a479a3aa",
   "metadata": {},
   "outputs": [
    {
     "data": {
      "text/plain": [
       "array([76.5])"
      ]
     },
     "execution_count": 15,
     "metadata": {},
     "output_type": "execute_result"
    }
   ],
   "source": [
    "upper_bound"
   ]
  },
  {
   "cell_type": "code",
   "execution_count": 16,
   "id": "a1231a34",
   "metadata": {},
   "outputs": [
    {
     "name": "stdout",
     "output_type": "stream",
     "text": [
      "[-19.2, 100]\n"
     ]
    }
   ],
   "source": [
    "\n",
    "# Finding Outliers\n",
    "\n",
    "outliers=[]\n",
    "for val in data:\n",
    "    if val>upper_bound:\n",
    "        outliers.append(val)\n",
    "    elif val<lower_bound:\n",
    "        outliers.append(val)\n",
    "print(outliers)\n"
   ]
  },
  {
   "cell_type": "code",
   "execution_count": 17,
   "id": "8053e36b",
   "metadata": {},
   "outputs": [
    {
     "data": {
      "text/plain": [
       "[-19.2, 23, 24, 32, 45, 12, 43, 67, 45, 32, 56, 32, 100]"
      ]
     },
     "execution_count": 17,
     "metadata": {},
     "output_type": "execute_result"
    }
   ],
   "source": [
    "data"
   ]
  },
  {
   "cell_type": "code",
   "execution_count": 18,
   "id": "cffb2e79",
   "metadata": {},
   "outputs": [
    {
     "data": {
      "text/plain": [
       "[23, 24, 32, 45, 12, 43, 67, 45, 32, 56, 32]"
      ]
     },
     "execution_count": 18,
     "metadata": {},
     "output_type": "execute_result"
    }
   ],
   "source": [
    "# Elimnating Ouliers\n",
    "for val in outliers:\n",
    "    data.remove(val)\n",
    "data"
   ]
  },
  {
   "cell_type": "code",
   "execution_count": 19,
   "id": "72479815",
   "metadata": {},
   "outputs": [
    {
     "data": {
      "text/plain": [
       "226.23140495867773"
      ]
     },
     "execution_count": 19,
     "metadata": {},
     "output_type": "execute_result"
    }
   ],
   "source": [
    "# Variance and Standard Deviation\n",
    "\n",
    "# variance \n",
    "np.var(data)"
   ]
  },
  {
   "cell_type": "code",
   "execution_count": 20,
   "id": "d488f92e",
   "metadata": {},
   "outputs": [
    {
     "data": {
      "text/plain": [
       "15.040990823701666"
      ]
     },
     "execution_count": 20,
     "metadata": {},
     "output_type": "execute_result"
    }
   ],
   "source": [
    "#standard Deviation\n",
    "np.std(data)\n",
    "np.float64(15.040990823701666)"
   ]
  },
  {
   "cell_type": "code",
   "execution_count": 21,
   "id": "c00ee381",
   "metadata": {},
   "outputs": [
    {
     "data": {
      "text/plain": [
       "15.040990823701666"
      ]
     },
     "execution_count": 21,
     "metadata": {},
     "output_type": "execute_result"
    }
   ],
   "source": [
    "#standard Deviation\n",
    "np.std(data)"
   ]
  },
  {
   "cell_type": "code",
   "execution_count": 22,
   "id": "a21b0b37",
   "metadata": {},
   "outputs": [
    {
     "data": {
      "text/plain": [
       "[23, 24, 32, 45, 12, 43, 67, 45, 32, 56, 32]"
      ]
     },
     "execution_count": 22,
     "metadata": {},
     "output_type": "execute_result"
    }
   ],
   "source": [
    "# MANUAL LOGIC FOR VARIACNE CALCULATIONS\n",
    "data\n"
   ]
  },
  {
   "cell_type": "code",
   "execution_count": 23,
   "id": "6c9407c5",
   "metadata": {},
   "outputs": [
    {
     "name": "stdout",
     "output_type": "stream",
     "text": [
      "226.23140495867773\n"
     ]
    }
   ],
   "source": [
    "# Population Variance \n",
    "sum=0\n",
    "lengthh=len(data)\n",
    "\n",
    "for val in data:\n",
    "    sum+=(val-np.mean(data))**2\n",
    "pvariance=sum/lengthh       \n",
    "print(pvariance)"
   ]
  },
  {
   "cell_type": "code",
   "execution_count": 24,
   "id": "e908c68a",
   "metadata": {},
   "outputs": [
    {
     "name": "stdout",
     "output_type": "stream",
     "text": [
      "248.8545454545455\n"
     ]
    }
   ],
   "source": [
    "# Sample Variance \n",
    "sum=0\n",
    "lengthh=len(data)\n",
    "\n",
    "for val in data:\n",
    "    sum+=(val-np.mean(data))**2\n",
    "svariance=sum/(lengthh-1)      \n",
    "print(svariance)"
   ]
  },
  {
   "cell_type": "code",
   "execution_count": 25,
   "id": "c0c7adf4",
   "metadata": {},
   "outputs": [
    {
     "data": {
      "text/plain": [
       "226.23140495867767"
      ]
     },
     "execution_count": 25,
     "metadata": {},
     "output_type": "execute_result"
    }
   ],
   "source": [
    "# Using Statistics Libraray\n",
    "import statistics\n",
    "statistics.pvariance(data)"
   ]
  },
  {
   "cell_type": "code",
   "execution_count": 26,
   "id": "dbefea9a",
   "metadata": {},
   "outputs": [
    {
     "data": {
      "text/plain": [
       "248.85454545454544"
      ]
     },
     "execution_count": 26,
     "metadata": {},
     "output_type": "execute_result"
    }
   ],
   "source": [
    "statistics.variance(data)"
   ]
  },
  {
   "cell_type": "code",
   "execution_count": 27,
   "id": "0751a234",
   "metadata": {},
   "outputs": [
    {
     "data": {
      "text/plain": [
       "15.040990823701666"
      ]
     },
     "execution_count": 27,
     "metadata": {},
     "output_type": "execute_result"
    }
   ],
   "source": [
    "# Population Standard Deviation\n",
    "pstd=pvariance**0.5\n",
    "pstd\n"
   ]
  },
  {
   "cell_type": "code",
   "execution_count": 29,
   "id": "2f5f00c0",
   "metadata": {},
   "outputs": [
    {
     "data": {
      "text/plain": [
       "15.775124261144361"
      ]
     },
     "execution_count": 29,
     "metadata": {},
     "output_type": "execute_result"
    }
   ],
   "source": [
    "statistics.stdev(data)    # sample std"
   ]
  },
  {
   "cell_type": "code",
   "execution_count": 28,
   "id": "1f2ab453",
   "metadata": {},
   "outputs": [
    {
     "data": {
      "text/plain": [
       "15.040990823701664"
      ]
     },
     "execution_count": 28,
     "metadata": {},
     "output_type": "execute_result"
    }
   ],
   "source": [
    "statistics.pstdev(data)    # poplutaion std"
   ]
  },
  {
   "cell_type": "code",
   "execution_count": null,
   "id": "2bb2d9e8",
   "metadata": {},
   "outputs": [],
   "source": []
  }
 ],
 "metadata": {
  "kernelspec": {
   "display_name": "base",
   "language": "python",
   "name": "python3"
  },
  "language_info": {
   "codemirror_mode": {
    "name": "ipython",
    "version": 3
   },
   "file_extension": ".py",
   "mimetype": "text/x-python",
   "name": "python",
   "nbconvert_exporter": "python",
   "pygments_lexer": "ipython3",
   "version": "3.12.7"
  }
 },
 "nbformat": 4,
 "nbformat_minor": 5
}
