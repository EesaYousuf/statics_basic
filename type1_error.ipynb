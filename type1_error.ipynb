{
 "cells": [
  {
   "cell_type": "code",
   "execution_count": null,
   "id": "1002d3f4",
   "metadata": {},
   "outputs": [],
   "source": [
    "# Binary Classification Code with Type I Error"
   ]
  },
  {
   "cell_type": "code",
   "execution_count": 1,
   "id": "bb131abe",
   "metadata": {},
   "outputs": [
    {
     "name": "stdout",
     "output_type": "stream",
     "text": [
      "False Positives (Type I errors): 1\n"
     ]
    }
   ],
   "source": [
    "from sklearn.metrics import confusion_matrix\n",
    "\n",
    "# Ground truth labels (0 = not spam, 1 = spam)\n",
    "y_true = [0, 0, 1, 1, 0]\n",
    "\n",
    "# Model predictions (incorrectly predicts a non-spam email as spam)\n",
    "y_pred = [1, 0, 1, 1, 0]\n",
    "\n",
    "# Calculate confusion matrix\n",
    "tn, fp, fn, tp = confusion_matrix(y_true, y_pred).ravel()\n",
    "\n",
    "print(\"False Positives (Type I errors):\", fp)\n"
   ]
  }
 ],
 "metadata": {
  "kernelspec": {
   "display_name": "base",
   "language": "python",
   "name": "python3"
  },
  "language_info": {
   "codemirror_mode": {
    "name": "ipython",
    "version": 3
   },
   "file_extension": ".py",
   "mimetype": "text/x-python",
   "name": "python",
   "nbconvert_exporter": "python",
   "pygments_lexer": "ipython3",
   "version": "3.12.7"
  }
 },
 "nbformat": 4,
 "nbformat_minor": 5
}
