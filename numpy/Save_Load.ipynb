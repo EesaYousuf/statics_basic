{
 "cells": [
  {
   "cell_type": "code",
   "execution_count": 1,
   "id": "496fa4a6",
   "metadata": {},
   "outputs": [],
   "source": [
    "# We can save any array in the txt , csv , npy npz format\n",
    "\n",
    "import numpy as np\n",
    "a=np.array([1,2,3,4,5,6])  # array to be saved\n",
    "np.save(\"test\",a)   # saves as npy\n",
    "np.savez('test',array=a)  # saves as npz\n",
    "np.savetxt('test.txt',a) # saves as txt"
   ]
  },
  {
   "cell_type": "code",
   "execution_count": 2,
   "id": "6e2aea39",
   "metadata": {},
   "outputs": [
    {
     "data": {
      "text/plain": [
       "array([1., 2., 3., 4., 5., 6.])"
      ]
     },
     "execution_count": 2,
     "metadata": {},
     "output_type": "execute_result"
    }
   ],
   "source": [
    "# Loads the saved file now\n",
    "b=np.loadtxt('test.txt')\n",
    "b"
   ]
  },
  {
   "cell_type": "code",
   "execution_count": 3,
   "id": "a2f8ebc9",
   "metadata": {},
   "outputs": [
    {
     "data": {
      "text/plain": [
       "array([1, 2, 3, 4, 5, 6])"
      ]
     },
     "execution_count": 3,
     "metadata": {},
     "output_type": "execute_result"
    }
   ],
   "source": [
    "c=np.load('test.npz')\n",
    "c['array']"
   ]
  },
  {
   "cell_type": "code",
   "execution_count": 4,
   "id": "e66f0c3b",
   "metadata": {},
   "outputs": [
    {
     "data": {
      "text/plain": [
       "array([1, 2, 3, 4, 5, 6])"
      ]
     },
     "execution_count": 4,
     "metadata": {},
     "output_type": "execute_result"
    }
   ],
   "source": [
    "d=np.load('test.npy')\n",
    "d"
   ]
  }
 ],
 "metadata": {
  "kernelspec": {
   "display_name": "base",
   "language": "python",
   "name": "python3"
  },
  "language_info": {
   "codemirror_mode": {
    "name": "ipython",
    "version": 3
   },
   "file_extension": ".py",
   "mimetype": "text/x-python",
   "name": "python",
   "nbconvert_exporter": "python",
   "pygments_lexer": "ipython3",
   "version": "3.12.7"
  }
 },
 "nbformat": 4,
 "nbformat_minor": 5
}
