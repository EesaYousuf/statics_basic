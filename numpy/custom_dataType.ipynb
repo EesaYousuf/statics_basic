{
 "cells": [
  {
   "cell_type": "code",
   "execution_count": 1,
   "id": "53ec05cf",
   "metadata": {},
   "outputs": [],
   "source": [
    "import numpy as np\n",
    "# Define a custom data type with two feilds\n",
    "dt=np.dtype([('Name','S10'),('age','i4')])\n",
    "\n"
   ]
  },
  {
   "cell_type": "code",
   "execution_count": 2,
   "id": "84c4274c",
   "metadata": {},
   "outputs": [],
   "source": [
    "# Create a structured array with Three Records\n",
    "a=np.array([('Alice',20),('Bob',30),('Merchant',25)],dtype=dt)"
   ]
  },
  {
   "cell_type": "code",
   "execution_count": 3,
   "id": "18125513",
   "metadata": {},
   "outputs": [
    {
     "data": {
      "text/plain": [
       "b'Alice'"
      ]
     },
     "execution_count": 3,
     "metadata": {},
     "output_type": "execute_result"
    }
   ],
   "source": [
    "a['Name'][0]"
   ]
  },
  {
   "cell_type": "code",
   "execution_count": 4,
   "id": "e473ebb3",
   "metadata": {},
   "outputs": [
    {
     "data": {
      "text/plain": [
       "b'Bob'"
      ]
     },
     "execution_count": 4,
     "metadata": {},
     "output_type": "execute_result"
    }
   ],
   "source": [
    "a['Name'][1]"
   ]
  },
  {
   "cell_type": "code",
   "execution_count": 5,
   "id": "157ab1e2",
   "metadata": {},
   "outputs": [
    {
     "data": {
      "text/plain": [
       "b'Merchant'"
      ]
     },
     "execution_count": 5,
     "metadata": {},
     "output_type": "execute_result"
    }
   ],
   "source": [
    "a['Name'][2]"
   ]
  },
  {
   "cell_type": "code",
   "execution_count": 6,
   "id": "0182b8f6",
   "metadata": {},
   "outputs": [
    {
     "data": {
      "text/plain": [
       "20"
      ]
     },
     "execution_count": 6,
     "metadata": {},
     "output_type": "execute_result"
    }
   ],
   "source": [
    "a['age'][0]"
   ]
  },
  {
   "cell_type": "code",
   "execution_count": 7,
   "id": "6698cf03",
   "metadata": {},
   "outputs": [
    {
     "data": {
      "text/plain": [
       "30"
      ]
     },
     "execution_count": 7,
     "metadata": {},
     "output_type": "execute_result"
    }
   ],
   "source": [
    "a['age'][1]"
   ]
  },
  {
   "cell_type": "code",
   "execution_count": 8,
   "id": "03d783a0",
   "metadata": {},
   "outputs": [
    {
     "data": {
      "text/plain": [
       "25"
      ]
     },
     "execution_count": 8,
     "metadata": {},
     "output_type": "execute_result"
    }
   ],
   "source": [
    "a['age'][2]"
   ]
  },
  {
   "cell_type": "code",
   "execution_count": 9,
   "id": "98337eb8",
   "metadata": {},
   "outputs": [
    {
     "data": {
      "text/plain": [
       "array([False,  True, False])"
      ]
     },
     "execution_count": 9,
     "metadata": {},
     "output_type": "execute_result"
    }
   ],
   "source": [
    "a['age']>25"
   ]
  },
  {
   "cell_type": "code",
   "execution_count": 10,
   "id": "fa350f0b",
   "metadata": {},
   "outputs": [
    {
     "data": {
      "text/plain": [
       "array([(b'Bob', 30), (b'Merchant', 25)],\n",
       "      dtype=[('Name', 'S10'), ('age', '<i4')])"
      ]
     },
     "execution_count": 10,
     "metadata": {},
     "output_type": "execute_result"
    }
   ],
   "source": [
    "a[a['age']>20]"
   ]
  },
  {
   "cell_type": "code",
   "execution_count": 11,
   "id": "16830b2b",
   "metadata": {},
   "outputs": [
    {
     "data": {
      "text/plain": [
       "array([(b'Alice', 20), (b'Merchant', 25), (b'Bob', 30)],\n",
       "      dtype=[('Name', 'S10'), ('age', '<i4')])"
      ]
     },
     "execution_count": 11,
     "metadata": {},
     "output_type": "execute_result"
    }
   ],
   "source": [
    "np.sort(a,order='age')"
   ]
  }
 ],
 "metadata": {
  "kernelspec": {
   "display_name": "base",
   "language": "python",
   "name": "python3"
  },
  "language_info": {
   "codemirror_mode": {
    "name": "ipython",
    "version": 3
   },
   "file_extension": ".py",
   "mimetype": "text/x-python",
   "name": "python",
   "nbconvert_exporter": "python",
   "pygments_lexer": "ipython3",
   "version": "3.12.7"
  }
 },
 "nbformat": 4,
 "nbformat_minor": 5
}
