{
 "cells": [
  {
   "cell_type": "markdown",
   "id": "b97d0923",
   "metadata": {},
   "source": [
    "Creating arrays One Dimensional"
   ]
  },
  {
   "cell_type": "code",
   "execution_count": 1,
   "id": "d0fa35dc",
   "metadata": {},
   "outputs": [
    {
     "name": "stdout",
     "output_type": "stream",
     "text": [
      "[1 2 3 4 5 6]\n",
      "[1 2 3 4 5 6]\n"
     ]
    }
   ],
   "source": [
    "import numpy as np\n",
    "arr=np.array([1,2,3,4,5,6])    # Method 1 \n",
    "arr1=np.asarray([1,2,3,4,5,6]) # Method 2 \n",
    "\n",
    "print(arr)\n",
    "print(arr1)"
   ]
  },
  {
   "cell_type": "markdown",
   "id": "8a250de1",
   "metadata": {},
   "source": [
    "Creating arrays 2 Dimensional"
   ]
  },
  {
   "cell_type": "code",
   "execution_count": 2,
   "id": "3d631914",
   "metadata": {},
   "outputs": [
    {
     "name": "stdout",
     "output_type": "stream",
     "text": [
      "[[1 2 5]\n",
      " [2 4 4]]\n",
      "2\n"
     ]
    }
   ],
   "source": [
    "two_D=np.array([[1,2,5],[2,4,4]])\n",
    "print(two_D)\n",
    "print(two_D.ndim)"
   ]
  },
  {
   "cell_type": "markdown",
   "id": "f372c3de",
   "metadata": {},
   "source": [
    "Creating arrays 3 Dimensional"
   ]
  },
  {
   "cell_type": "code",
   "execution_count": 3,
   "id": "3cf0d69d",
   "metadata": {},
   "outputs": [
    {
     "name": "stdout",
     "output_type": "stream",
     "text": [
      "[[[1 2 3]\n",
      "  [2 4 5]]\n",
      "\n",
      " [[1 2 1]\n",
      "  [2 3 2]]]\n",
      "3\n"
     ]
    }
   ],
   "source": [
    "three_D=np.array([[[1,2,3],[2,4,5]],[[1,2,1],[2,3,2]]])\n",
    "print(three_D)\n",
    "print(three_D.ndim)"
   ]
  },
  {
   "cell_type": "code",
   "execution_count": 4,
   "id": "49c99f4d",
   "metadata": {},
   "outputs": [
    {
     "data": {
      "text/plain": [
       "array([[3.33772792e-307, 4.22786102e-307, 2.78145267e-307],\n",
       "       [4.00537061e-307, 9.45656391e-308, 0.00000000e+000]])"
      ]
     },
     "execution_count": 4,
     "metadata": {},
     "output_type": "execute_result"
    }
   ],
   "source": [
    "empty=np.empty((2,3))\n",
    "empty"
   ]
  },
  {
   "cell_type": "code",
   "execution_count": 5,
   "id": "d1a15a76",
   "metadata": {},
   "outputs": [
    {
     "data": {
      "text/plain": [
       "array([[0., 0., 0., 0., 0.],\n",
       "       [0., 0., 0., 0., 0.],\n",
       "       [0., 0., 0., 0., 0.]])"
      ]
     },
     "execution_count": 5,
     "metadata": {},
     "output_type": "execute_result"
    }
   ],
   "source": [
    "zeros=np.zeros((3,5))\n",
    "zeros"
   ]
  },
  {
   "cell_type": "code",
   "execution_count": 6,
   "id": "4b93a289",
   "metadata": {},
   "outputs": [
    {
     "data": {
      "text/plain": [
       "array([[1., 1., 1., 1.],\n",
       "       [1., 1., 1., 1.],\n",
       "       [1., 1., 1., 1.],\n",
       "       [1., 1., 1., 1.],\n",
       "       [1., 1., 1., 1.]])"
      ]
     },
     "execution_count": 6,
     "metadata": {},
     "output_type": "execute_result"
    }
   ],
   "source": [
    "ones=np.ones((5,4))\n",
    "ones"
   ]
  },
  {
   "cell_type": "code",
   "execution_count": 7,
   "id": "0edacc03",
   "metadata": {},
   "outputs": [
    {
     "data": {
      "text/plain": [
       "array([[255, 255, 255, 255, 255, 255],\n",
       "       [255, 255, 255, 255, 255, 255],\n",
       "       [255, 255, 255, 255, 255, 255]])"
      ]
     },
     "execution_count": 7,
     "metadata": {},
     "output_type": "execute_result"
    }
   ],
   "source": [
    "specific=np.full((3,6),255)\n",
    "specific"
   ]
  },
  {
   "cell_type": "code",
   "execution_count": 8,
   "id": "18958cf9",
   "metadata": {},
   "outputs": [
    {
     "data": {
      "text/plain": [
       "array([[1., 0., 0., 0.],\n",
       "       [0., 1., 0., 0.],\n",
       "       [0., 0., 1., 0.],\n",
       "       [0., 0., 0., 1.]])"
      ]
     },
     "execution_count": 8,
     "metadata": {},
     "output_type": "execute_result"
    }
   ],
   "source": [
    "identity=np.identity(4)\n",
    "identity"
   ]
  },
  {
   "cell_type": "code",
   "execution_count": 9,
   "id": "6fcf5821",
   "metadata": {},
   "outputs": [
    {
     "data": {
      "text/html": [
       "<div>\n",
       "<style scoped>\n",
       "    .dataframe tbody tr th:only-of-type {\n",
       "        vertical-align: middle;\n",
       "    }\n",
       "\n",
       "    .dataframe tbody tr th {\n",
       "        vertical-align: top;\n",
       "    }\n",
       "\n",
       "    .dataframe thead th {\n",
       "        text-align: right;\n",
       "    }\n",
       "</style>\n",
       "<table border=\"1\" class=\"dataframe\">\n",
       "  <thead>\n",
       "    <tr style=\"text-align: right;\">\n",
       "      <th></th>\n",
       "      <th>c1</th>\n",
       "      <th>c2</th>\n",
       "      <th>c3</th>\n",
       "      <th>c4</th>\n",
       "      <th>c5</th>\n",
       "      <th>c6</th>\n",
       "    </tr>\n",
       "  </thead>\n",
       "  <tbody>\n",
       "    <tr>\n",
       "      <th>r1</th>\n",
       "      <td>0.303200</td>\n",
       "      <td>0.813903</td>\n",
       "      <td>0.945572</td>\n",
       "      <td>0.427730</td>\n",
       "      <td>0.218491</td>\n",
       "      <td>0.193763</td>\n",
       "    </tr>\n",
       "    <tr>\n",
       "      <th>r2</th>\n",
       "      <td>0.495883</td>\n",
       "      <td>0.845055</td>\n",
       "      <td>0.092395</td>\n",
       "      <td>0.230624</td>\n",
       "      <td>0.941294</td>\n",
       "      <td>0.558509</td>\n",
       "    </tr>\n",
       "    <tr>\n",
       "      <th>r3</th>\n",
       "      <td>0.981349</td>\n",
       "      <td>0.194342</td>\n",
       "      <td>0.848145</td>\n",
       "      <td>0.706963</td>\n",
       "      <td>0.186060</td>\n",
       "      <td>0.278082</td>\n",
       "    </tr>\n",
       "    <tr>\n",
       "      <th>r4</th>\n",
       "      <td>0.678871</td>\n",
       "      <td>0.336139</td>\n",
       "      <td>0.162993</td>\n",
       "      <td>0.495396</td>\n",
       "      <td>0.923944</td>\n",
       "      <td>0.320154</td>\n",
       "    </tr>\n",
       "    <tr>\n",
       "      <th>r5</th>\n",
       "      <td>0.637617</td>\n",
       "      <td>0.386917</td>\n",
       "      <td>0.122583</td>\n",
       "      <td>0.533048</td>\n",
       "      <td>0.614139</td>\n",
       "      <td>0.535648</td>\n",
       "    </tr>\n",
       "  </tbody>\n",
       "</table>\n",
       "</div>"
      ],
      "text/plain": [
       "          c1        c2        c3        c4        c5        c6\n",
       "r1  0.303200  0.813903  0.945572  0.427730  0.218491  0.193763\n",
       "r2  0.495883  0.845055  0.092395  0.230624  0.941294  0.558509\n",
       "r3  0.981349  0.194342  0.848145  0.706963  0.186060  0.278082\n",
       "r4  0.678871  0.336139  0.162993  0.495396  0.923944  0.320154\n",
       "r5  0.637617  0.386917  0.122583  0.533048  0.614139  0.535648"
      ]
     },
     "execution_count": 9,
     "metadata": {},
     "output_type": "execute_result"
    }
   ],
   "source": [
    "# Creating A Dataframe\n",
    "import pandas as pd\n",
    "df=pd.DataFrame(np.random.rand(5,6),columns=[\"c1\",\"c2\",\"c3\",\"c4\",\"c5\",\"c6\"],index=['r1','r2','r3','r4','r5',])\n",
    "df"
   ]
  },
  {
   "cell_type": "code",
   "execution_count": 10,
   "id": "a7f686a8",
   "metadata": {},
   "outputs": [
    {
     "data": {
      "text/plain": [
       "array([0.        , 0.11111111, 0.22222222, 0.33333333, 0.44444444,\n",
       "       0.55555556, 0.66666667, 0.77777778, 0.88888889, 1.        ])"
      ]
     },
     "execution_count": 10,
     "metadata": {},
     "output_type": "execute_result"
    }
   ],
   "source": [
    "# Linspace : evenly spaced values syntax start end(inclusive) no_of_elemnets\n",
    "\n",
    "arr1=np.linspace(0,1,10)\n",
    "arr1"
   ]
  },
  {
   "cell_type": "code",
   "execution_count": 11,
   "id": "93a93df1",
   "metadata": {},
   "outputs": [
    {
     "data": {
      "text/plain": [
       "array([1.00000000e+01, 1.77827941e+03, 3.16227766e+05, 5.62341325e+07,\n",
       "       1.00000000e+10])"
      ]
     },
     "execution_count": 11,
     "metadata": {},
     "output_type": "execute_result"
    }
   ],
   "source": [
    "# Logspace : Numbers spaced evenly on a log scale\n",
    "\n",
    "np.logspace(1,10,5)"
   ]
  },
  {
   "cell_type": "code",
   "execution_count": 12,
   "id": "b4477dc1",
   "metadata": {},
   "outputs": [
    {
     "data": {
      "text/plain": [
       "array([1, 2, 3, 4, 5])"
      ]
     },
     "execution_count": 12,
     "metadata": {},
     "output_type": "execute_result"
    }
   ],
   "source": [
    "# Slicing\n",
    "\n",
    "a=np.array([1,2,3,4,5])\n",
    "a"
   ]
  },
  {
   "cell_type": "code",
   "execution_count": 13,
   "id": "b99393c6",
   "metadata": {},
   "outputs": [
    {
     "data": {
      "text/plain": [
       "array([2, 3, 4])"
      ]
     },
     "execution_count": 13,
     "metadata": {},
     "output_type": "execute_result"
    }
   ],
   "source": [
    "a[1:4]"
   ]
  },
  {
   "cell_type": "code",
   "execution_count": 14,
   "id": "9d5186c8",
   "metadata": {},
   "outputs": [
    {
     "data": {
      "text/plain": [
       "4"
      ]
     },
     "execution_count": 14,
     "metadata": {},
     "output_type": "execute_result"
    }
   ],
   "source": [
    "a[-2]"
   ]
  },
  {
   "cell_type": "code",
   "execution_count": 15,
   "id": "5a39b4a2",
   "metadata": {},
   "outputs": [
    {
     "data": {
      "text/plain": [
       "array([[1, 2, 3],\n",
       "       [4, 5, 6]])"
      ]
     },
     "execution_count": 15,
     "metadata": {},
     "output_type": "execute_result"
    }
   ],
   "source": [
    "# 2d Array\n",
    "\n",
    "ab=np.array([[1,2,3],\n",
    "             [4,5,6]])\n",
    "ab"
   ]
  },
  {
   "cell_type": "code",
   "execution_count": 16,
   "id": "549aa9fc",
   "metadata": {},
   "outputs": [
    {
     "data": {
      "text/plain": [
       "array([[2, 3],\n",
       "       [5, 6]])"
      ]
     },
     "execution_count": 16,
     "metadata": {},
     "output_type": "execute_result"
    }
   ],
   "source": [
    "ab[:,1:3]"
   ]
  },
  {
   "cell_type": "code",
   "execution_count": 17,
   "id": "85b3af36",
   "metadata": {},
   "outputs": [
    {
     "data": {
      "text/plain": [
       "2"
      ]
     },
     "execution_count": 17,
     "metadata": {},
     "output_type": "execute_result"
    }
   ],
   "source": [
    "ab[0][1]"
   ]
  },
  {
   "cell_type": "code",
   "execution_count": 18,
   "id": "3a8f5578",
   "metadata": {},
   "outputs": [
    {
     "data": {
      "text/plain": [
       "2"
      ]
     },
     "execution_count": 18,
     "metadata": {},
     "output_type": "execute_result"
    }
   ],
   "source": [
    "ab[0,1]"
   ]
  },
  {
   "cell_type": "code",
   "execution_count": 19,
   "id": "da459963",
   "metadata": {},
   "outputs": [
    {
     "data": {
      "text/plain": [
       "array([1, 2, 3])"
      ]
     },
     "execution_count": 19,
     "metadata": {},
     "output_type": "execute_result"
    }
   ],
   "source": [
    "ab[0]"
   ]
  },
  {
   "cell_type": "code",
   "execution_count": 20,
   "id": "2569c968",
   "metadata": {},
   "outputs": [
    {
     "data": {
      "text/plain": [
       "array([[2],\n",
       "       [5]])"
      ]
     },
     "execution_count": 20,
     "metadata": {},
     "output_type": "execute_result"
    }
   ],
   "source": [
    "ab[0:2,1:2]"
   ]
  }
 ],
 "metadata": {
  "kernelspec": {
   "display_name": "base",
   "language": "python",
   "name": "python3"
  },
  "language_info": {
   "codemirror_mode": {
    "name": "ipython",
    "version": 3
   },
   "file_extension": ".py",
   "mimetype": "text/x-python",
   "name": "python",
   "nbconvert_exporter": "python",
   "pygments_lexer": "ipython3",
   "version": "3.12.7"
  }
 },
 "nbformat": 4,
 "nbformat_minor": 5
}
