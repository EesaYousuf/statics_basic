{
 "cells": [
  {
   "cell_type": "markdown",
   "id": "ade46339",
   "metadata": {},
   "source": [
    "Anova test used to compare the mean of three or more groups to determine if their is any significance between them\n",
    "\n",
    "Two Types\n",
    "\n",
    "1: One way anova\n",
    "\n",
    "2: Two way anova"
   ]
  },
  {
   "cell_type": "code",
   "execution_count": 1,
   "id": "50bfcb55",
   "metadata": {},
   "outputs": [],
   "source": [
    "import scipy.stats as stats\n",
    "A=[85,88,9,92,86]\n",
    "B=[78,74,80,97,83]\n",
    "C=[91,89,94,96,90]"
   ]
  },
  {
   "cell_type": "code",
   "execution_count": 2,
   "id": "d47e933e",
   "metadata": {},
   "outputs": [
    {
     "name": "stdout",
     "output_type": "stream",
     "text": [
      "F-Statistis: 1.1256281407035178\n",
      "p_value: 0.35642534256199976\n"
     ]
    }
   ],
   "source": [
    "F_statics,p_val=stats.f_oneway(A,B,C)\n",
    "print(f'F-Statistis: {F_statics}')\n",
    "print(f'p_value: {p_val}')"
   ]
  },
  {
   "cell_type": "code",
   "execution_count": null,
   "id": "17b2cd6a",
   "metadata": {},
   "outputs": [],
   "source": []
  }
 ],
 "metadata": {
  "kernelspec": {
   "display_name": "base",
   "language": "python",
   "name": "python3"
  },
  "language_info": {
   "codemirror_mode": {
    "name": "ipython",
    "version": 3
   },
   "file_extension": ".py",
   "mimetype": "text/x-python",
   "name": "python",
   "nbconvert_exporter": "python",
   "pygments_lexer": "ipython3",
   "version": "3.12.7"
  }
 },
 "nbformat": 4,
 "nbformat_minor": 5
}
