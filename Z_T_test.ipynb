{
 "cells": [
  {
   "cell_type": "markdown",
   "id": "9221d56b",
   "metadata": {},
   "source": [
    "A school claims that the students studing in their school have more IQ than the students of other school, a team went and took a sample of 50 students from the population of 100 students and found average IQ for the sample was 110, The Total Population had a Standard Deviation of 15 , consider confidence level as 95%?\n",
    "\n",
    "Suedocode: confidence_level=95% significance=5% ==0.05% if p<=0.05 reject null hypothesis else accept null_hypothesis=100=mean(mew) alternate_hypothesis =mean(mew)>100\n",
    "\n",
    "z-score=sample mean - population mean / standard deviation /square root (sample size) = 110-100/15/underroot(50) z-score=4.7"
   ]
  },
  {
   "cell_type": "code",
   "execution_count": 4,
   "id": "c517bded",
   "metadata": {},
   "outputs": [],
   "source": [
    "import math \n",
    "import numpy as np\n",
    "from statsmodels.stats.weightstats import ztest"
   ]
  },
  {
   "cell_type": "code",
   "execution_count": 5,
   "id": "70171a2f",
   "metadata": {},
   "outputs": [],
   "source": [
    "mean_iq=110\n",
    "sd_id=15/math.sqrt(50)\n",
    "alpha=0.05\n",
    "null_hypothesis=100"
   ]
  },
  {
   "cell_type": "code",
   "execution_count": 6,
   "id": "be7382d6",
   "metadata": {},
   "outputs": [],
   "source": [
    "data=(np.random.randn(50)+mean_iq)  "
   ]
  },
  {
   "cell_type": "code",
   "execution_count": 7,
   "id": "31140d27",
   "metadata": {},
   "outputs": [
    {
     "data": {
      "text/plain": [
       "(68.23090138115982, 0.0)"
      ]
     },
     "execution_count": 7,
     "metadata": {},
     "output_type": "execute_result"
    }
   ],
   "source": [
    "ztest(data,value=null_hypothesis,alternative='larger')"
   ]
  },
  {
   "cell_type": "code",
   "execution_count": 9,
   "id": "262c430b",
   "metadata": {},
   "outputs": [
    {
     "name": "stdout",
     "output_type": "stream",
     "text": [
      "Reject null hypotheisi\n"
     ]
    }
   ],
   "source": [
    "pvalue=0.0\n",
    "if pvalue<=0.05:\n",
    "    print(\"Reject null hypotheisi\")\n",
    "else:\n",
    "    print(\"accept null hypothesis\")"
   ]
  },
  {
   "cell_type": "markdown",
   "id": "33805365",
   "metadata": {},
   "source": [
    "T-TEST\n",
    "\n",
    "One sample ttest( with respect to one independent sample), two sample ttest( with respect to two independent sample), paired ttest( two samples from the same pouplation on different time interval)\n",
    "\n",
    "One sample T-Test"
   ]
  },
  {
   "cell_type": "code",
   "execution_count": 10,
   "id": "36a6304f",
   "metadata": {},
   "outputs": [],
   "source": [
    "my_total_innings_in_cricket=np.random.randint(10,60,50)\n",
    "my_cricket_score_in_20_innings=np.random.choice(my_total_innings_in_cricket,20)\n",
    "null_hypothesis=np.mean(my_cricket_score_in_20_innings)"
   ]
  },
  {
   "cell_type": "code",
   "execution_count": 11,
   "id": "97b871c4",
   "metadata": {},
   "outputs": [
    {
     "data": {
      "text/plain": [
       "TtestResult(statistic=0.0, pvalue=1.0, df=19)"
      ]
     },
     "execution_count": 11,
     "metadata": {},
     "output_type": "execute_result"
    }
   ],
   "source": [
    "from scipy import stats\n",
    "stats.ttest_1samp(my_cricket_score_in_20_innings,null_hypothesis)"
   ]
  },
  {
   "cell_type": "code",
   "execution_count": 12,
   "id": "68aa2ef7",
   "metadata": {},
   "outputs": [
    {
     "name": "stdout",
     "output_type": "stream",
     "text": [
      "accept null hypothesis\n"
     ]
    }
   ],
   "source": [
    "pvalue=1.0\n",
    "if pvalue<=0.05:\n",
    "    print(\"Reject null hypotheisi\")\n",
    "else:\n",
    "    print(\"accept null hypothesis\")"
   ]
  },
  {
   "cell_type": "markdown",
   "id": "f010e188",
   "metadata": {},
   "source": [
    "Ttest Two Sample"
   ]
  },
  {
   "cell_type": "code",
   "execution_count": 13,
   "id": "9e9520a8",
   "metadata": {},
   "outputs": [
    {
     "data": {
      "text/plain": [
       "TtestResult(statistic=-4.872809126122233, pvalue=1.9737379026480575e-05, df=38.0)"
      ]
     },
     "execution_count": 13,
     "metadata": {},
     "output_type": "execute_result"
    }
   ],
   "source": [
    "my_total_inn_score=np.random.randint(10,60,50)\n",
    "virat_total_inn_score=np.random.randint(30,90,50)\n",
    "\n",
    "my_20_inn_score=np.random.choice(my_total_inn_score,20)\n",
    "virat_20_inn_score=np.random.choice(virat_total_inn_score,20)\n",
    "\n",
    "from scipy import stats\n",
    "stats.ttest_ind(my_20_inn_score,virat_20_inn_score)"
   ]
  },
  {
   "cell_type": "markdown",
   "id": "99e10b49",
   "metadata": {},
   "source": [
    "Pired T test means single popultaion and selct two samples from the single poplulation"
   ]
  },
  {
   "cell_type": "code",
   "execution_count": 14,
   "id": "9c3ffd0d",
   "metadata": {},
   "outputs": [
    {
     "data": {
      "text/plain": [
       "TtestResult(statistic=-1.0357812865176164, pvalue=0.31062849649167296, df=24)"
      ]
     },
     "execution_count": 14,
     "metadata": {},
     "output_type": "execute_result"
    }
   ],
   "source": [
    "my_total_innings_in_cricket=np.random.randint(10,60,50)\n",
    "sample1=np.random.choice(my_total_innings_in_cricket,25)\n",
    "sample2=np.random.choice(my_total_innings_in_cricket,25)\n",
    "mean_s1=np.mean(sample1)\n",
    "mean_s2=np.mean(sample2)\n",
    "\n",
    "from scipy import stats\n",
    "stats.ttest_rel(sample1,sample2)"
   ]
  },
  {
   "cell_type": "code",
   "execution_count": 15,
   "id": "03477f5c",
   "metadata": {},
   "outputs": [
    {
     "name": "stdout",
     "output_type": "stream",
     "text": [
      "accept null hypothesis\n"
     ]
    }
   ],
   "source": [
    "pvalue=0.52\n",
    "if pvalue<=0.05:\n",
    "    print(\"reject null hypotheis as mean of two is not equal and p value is proof\")\n",
    "else :\n",
    "    print(\"accept null hypothesis\")"
   ]
  }
 ],
 "metadata": {
  "kernelspec": {
   "display_name": "base",
   "language": "python",
   "name": "python3"
  },
  "language_info": {
   "codemirror_mode": {
    "name": "ipython",
    "version": 3
   },
   "file_extension": ".py",
   "mimetype": "text/x-python",
   "name": "python",
   "nbconvert_exporter": "python",
   "pygments_lexer": "ipython3",
   "version": "3.12.7"
  }
 },
 "nbformat": 4,
 "nbformat_minor": 5
}
